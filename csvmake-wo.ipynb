{
  "cells": [
    {
      "cell_type": "markdown",
      "metadata": {
        "id": "szx0GR5a2Wo0"
      },
      "source": [
        "Creating custom dataset from TMDB_tv_dataset_v3 from kaggle\n"
      ]
    },
    {
      "cell_type": "code",
      "execution_count": 1,
      "metadata": {
        "id": "kthRjPMCz0lM"
      },
      "outputs": [],
      "source": [
        "import pandas as pd"
      ]
    },
    {
      "cell_type": "code",
      "execution_count": null,
      "metadata": {
        "colab": {
          "base_uri": "https://localhost:8080/",
          "height": 370
        },
        "id": "xDlO3LePM29V",
        "outputId": "3013448f-f9eb-4cd5-bcb9-3adf7719aa2f"
      },
      "outputs": [
        {
          "data": {
            "text/html": [
              "<div>\n",
              "<style scoped>\n",
              "    .dataframe tbody tr th:only-of-type {\n",
              "        vertical-align: middle;\n",
              "    }\n",
              "\n",
              "    .dataframe tbody tr th {\n",
              "        vertical-align: top;\n",
              "    }\n",
              "\n",
              "    .dataframe thead th {\n",
              "        text-align: right;\n",
              "    }\n",
              "</style>\n",
              "<table border=\"1\" class=\"dataframe\">\n",
              "  <thead>\n",
              "    <tr style=\"text-align: right;\">\n",
              "      <th></th>\n",
              "      <th>id</th>\n",
              "      <th>title</th>\n",
              "      <th>vote_average</th>\n",
              "      <th>vote_count</th>\n",
              "      <th>status</th>\n",
              "      <th>release_date</th>\n",
              "      <th>revenue</th>\n",
              "      <th>runtime</th>\n",
              "      <th>adult</th>\n",
              "      <th>backdrop_path</th>\n",
              "      <th>...</th>\n",
              "      <th>original_title</th>\n",
              "      <th>overview</th>\n",
              "      <th>popularity</th>\n",
              "      <th>poster_path</th>\n",
              "      <th>tagline</th>\n",
              "      <th>genres</th>\n",
              "      <th>production_companies</th>\n",
              "      <th>production_countries</th>\n",
              "      <th>spoken_languages</th>\n",
              "      <th>keywords</th>\n",
              "    </tr>\n",
              "  </thead>\n",
              "  <tbody>\n",
              "    <tr>\n",
              "      <th>0</th>\n",
              "      <td>27205</td>\n",
              "      <td>Inception</td>\n",
              "      <td>8.364</td>\n",
              "      <td>34495</td>\n",
              "      <td>Released</td>\n",
              "      <td>2010-07-15</td>\n",
              "      <td>825532764</td>\n",
              "      <td>148</td>\n",
              "      <td>False</td>\n",
              "      <td>/8ZTVqvKDQ8emSGUEMjsS4yHAwrp.jpg</td>\n",
              "      <td>...</td>\n",
              "      <td>Inception</td>\n",
              "      <td>Cobb, a skilled thief who commits corporate es...</td>\n",
              "      <td>83.952</td>\n",
              "      <td>/oYuLEt3zVCKq57qu2F8dT7NIa6f.jpg</td>\n",
              "      <td>Your mind is the scene of the crime.</td>\n",
              "      <td>Action, Science Fiction, Adventure</td>\n",
              "      <td>Legendary Pictures, Syncopy, Warner Bros. Pict...</td>\n",
              "      <td>United Kingdom, United States of America</td>\n",
              "      <td>English, French, Japanese, Swahili</td>\n",
              "      <td>rescue, mission, dream, airplane, paris, franc...</td>\n",
              "    </tr>\n",
              "    <tr>\n",
              "      <th>1</th>\n",
              "      <td>157336</td>\n",
              "      <td>Interstellar</td>\n",
              "      <td>8.417</td>\n",
              "      <td>32571</td>\n",
              "      <td>Released</td>\n",
              "      <td>2014-11-05</td>\n",
              "      <td>701729206</td>\n",
              "      <td>169</td>\n",
              "      <td>False</td>\n",
              "      <td>/pbrkL804c8yAv3zBZR4QPEafpAR.jpg</td>\n",
              "      <td>...</td>\n",
              "      <td>Interstellar</td>\n",
              "      <td>The adventures of a group of explorers who mak...</td>\n",
              "      <td>140.241</td>\n",
              "      <td>/gEU2QniE6E77NI6lCU6MxlNBvIx.jpg</td>\n",
              "      <td>Mankind was born on Earth. It was never meant ...</td>\n",
              "      <td>Adventure, Drama, Science Fiction</td>\n",
              "      <td>Legendary Pictures, Syncopy, Lynda Obst Produc...</td>\n",
              "      <td>United Kingdom, United States of America</td>\n",
              "      <td>English</td>\n",
              "      <td>rescue, future, spacecraft, race against time,...</td>\n",
              "    </tr>\n",
              "  </tbody>\n",
              "</table>\n",
              "<p>2 rows × 24 columns</p>\n",
              "</div>"
            ],
            "text/plain": [
              "       id         title  vote_average  vote_count    status release_date  \\\n",
              "0   27205     Inception         8.364       34495  Released   2010-07-15   \n",
              "1  157336  Interstellar         8.417       32571  Released   2014-11-05   \n",
              "\n",
              "     revenue  runtime  adult                     backdrop_path  ...  \\\n",
              "0  825532764      148  False  /8ZTVqvKDQ8emSGUEMjsS4yHAwrp.jpg  ...   \n",
              "1  701729206      169  False  /pbrkL804c8yAv3zBZR4QPEafpAR.jpg  ...   \n",
              "\n",
              "   original_title                                           overview  \\\n",
              "0       Inception  Cobb, a skilled thief who commits corporate es...   \n",
              "1    Interstellar  The adventures of a group of explorers who mak...   \n",
              "\n",
              "  popularity                       poster_path  \\\n",
              "0     83.952  /oYuLEt3zVCKq57qu2F8dT7NIa6f.jpg   \n",
              "1    140.241  /gEU2QniE6E77NI6lCU6MxlNBvIx.jpg   \n",
              "\n",
              "                                             tagline  \\\n",
              "0               Your mind is the scene of the crime.   \n",
              "1  Mankind was born on Earth. It was never meant ...   \n",
              "\n",
              "                               genres  \\\n",
              "0  Action, Science Fiction, Adventure   \n",
              "1   Adventure, Drama, Science Fiction   \n",
              "\n",
              "                                production_companies  \\\n",
              "0  Legendary Pictures, Syncopy, Warner Bros. Pict...   \n",
              "1  Legendary Pictures, Syncopy, Lynda Obst Produc...   \n",
              "\n",
              "                       production_countries  \\\n",
              "0  United Kingdom, United States of America   \n",
              "1  United Kingdom, United States of America   \n",
              "\n",
              "                     spoken_languages  \\\n",
              "0  English, French, Japanese, Swahili   \n",
              "1                             English   \n",
              "\n",
              "                                            keywords  \n",
              "0  rescue, mission, dream, airplane, paris, franc...  \n",
              "1  rescue, future, spacecraft, race against time,...  \n",
              "\n",
              "[2 rows x 24 columns]"
            ]
          },
          "execution_count": 2,
          "metadata": {},
          "output_type": "execute_result"
        }
      ],
      "source": [
        "\n",
        "# # Load the MovieLens dataset\n",
        "movies = pd.read_csv('D:\\Project\\LLM\\ccsv\\TMDB_movie_dataset_v11.csv')\n",
        "tv = pd.read_csv('D:\\Project\\LLM\\ccsv\\TMDB_tv_dataset_v3.csv')\n",
        "\n",
        "movies.head(2)"
      ]
    },
    {
      "cell_type": "code",
      "execution_count": 23,
      "metadata": {},
      "outputs": [
        {
          "name": "stdout",
          "output_type": "stream",
          "text": [
            "(1205104, 24)\n",
            "(168639, 29)\n"
          ]
        }
      ],
      "source": [
        "print(movies.shape)\n",
        "print(tv.shape)"
      ]
    },
    {
      "cell_type": "code",
      "execution_count": 3,
      "metadata": {
        "colab": {
          "base_uri": "https://localhost:8080/",
          "height": 335
        },
        "id": "-kjfZdLXY91q",
        "outputId": "5a528507-3f91-4533-a72c-8e19b60e275c"
      },
      "outputs": [
        {
          "data": {
            "text/html": [
              "<div>\n",
              "<style scoped>\n",
              "    .dataframe tbody tr th:only-of-type {\n",
              "        vertical-align: middle;\n",
              "    }\n",
              "\n",
              "    .dataframe tbody tr th {\n",
              "        vertical-align: top;\n",
              "    }\n",
              "\n",
              "    .dataframe thead th {\n",
              "        text-align: right;\n",
              "    }\n",
              "</style>\n",
              "<table border=\"1\" class=\"dataframe\">\n",
              "  <thead>\n",
              "    <tr style=\"text-align: right;\">\n",
              "      <th></th>\n",
              "      <th>id</th>\n",
              "      <th>name</th>\n",
              "      <th>number_of_seasons</th>\n",
              "      <th>number_of_episodes</th>\n",
              "      <th>original_language</th>\n",
              "      <th>vote_count</th>\n",
              "      <th>vote_average</th>\n",
              "      <th>overview</th>\n",
              "      <th>adult</th>\n",
              "      <th>backdrop_path</th>\n",
              "      <th>...</th>\n",
              "      <th>tagline</th>\n",
              "      <th>genres</th>\n",
              "      <th>created_by</th>\n",
              "      <th>languages</th>\n",
              "      <th>networks</th>\n",
              "      <th>origin_country</th>\n",
              "      <th>spoken_languages</th>\n",
              "      <th>production_companies</th>\n",
              "      <th>production_countries</th>\n",
              "      <th>episode_run_time</th>\n",
              "    </tr>\n",
              "  </thead>\n",
              "  <tbody>\n",
              "    <tr>\n",
              "      <th>0</th>\n",
              "      <td>1399</td>\n",
              "      <td>Game of Thrones</td>\n",
              "      <td>8</td>\n",
              "      <td>73</td>\n",
              "      <td>en</td>\n",
              "      <td>21857</td>\n",
              "      <td>8.442</td>\n",
              "      <td>Seven noble families fight for control of the ...</td>\n",
              "      <td>False</td>\n",
              "      <td>/2OMB0ynKlyIenMJWI2Dy9IWT4c.jpg</td>\n",
              "      <td>...</td>\n",
              "      <td>Winter Is Coming</td>\n",
              "      <td>Sci-Fi &amp; Fantasy, Drama, Action &amp; Adventure</td>\n",
              "      <td>David Benioff, D.B. Weiss</td>\n",
              "      <td>en</td>\n",
              "      <td>HBO</td>\n",
              "      <td>US</td>\n",
              "      <td>English</td>\n",
              "      <td>Revolution Sun Studios, Television 360, Genera...</td>\n",
              "      <td>United Kingdom, United States of America</td>\n",
              "      <td>0</td>\n",
              "    </tr>\n",
              "    <tr>\n",
              "      <th>1</th>\n",
              "      <td>71446</td>\n",
              "      <td>Money Heist</td>\n",
              "      <td>3</td>\n",
              "      <td>41</td>\n",
              "      <td>es</td>\n",
              "      <td>17836</td>\n",
              "      <td>8.257</td>\n",
              "      <td>To carry out the biggest heist in history, a m...</td>\n",
              "      <td>False</td>\n",
              "      <td>/gFZriCkpJYsApPZEF3jhxL4yLzG.jpg</td>\n",
              "      <td>...</td>\n",
              "      <td>The perfect robbery.</td>\n",
              "      <td>Crime, Drama</td>\n",
              "      <td>Álex Pina</td>\n",
              "      <td>es</td>\n",
              "      <td>Netflix, Antena 3</td>\n",
              "      <td>ES</td>\n",
              "      <td>Español</td>\n",
              "      <td>Vancouver Media</td>\n",
              "      <td>Spain</td>\n",
              "      <td>70</td>\n",
              "    </tr>\n",
              "  </tbody>\n",
              "</table>\n",
              "<p>2 rows × 29 columns</p>\n",
              "</div>"
            ],
            "text/plain": [
              "      id             name  number_of_seasons  number_of_episodes  \\\n",
              "0   1399  Game of Thrones                  8                  73   \n",
              "1  71446      Money Heist                  3                  41   \n",
              "\n",
              "  original_language  vote_count  vote_average  \\\n",
              "0                en       21857         8.442   \n",
              "1                es       17836         8.257   \n",
              "\n",
              "                                            overview  adult  \\\n",
              "0  Seven noble families fight for control of the ...  False   \n",
              "1  To carry out the biggest heist in history, a m...  False   \n",
              "\n",
              "                      backdrop_path  ...               tagline  \\\n",
              "0   /2OMB0ynKlyIenMJWI2Dy9IWT4c.jpg  ...      Winter Is Coming   \n",
              "1  /gFZriCkpJYsApPZEF3jhxL4yLzG.jpg  ...  The perfect robbery.   \n",
              "\n",
              "                                        genres                 created_by  \\\n",
              "0  Sci-Fi & Fantasy, Drama, Action & Adventure  David Benioff, D.B. Weiss   \n",
              "1                                 Crime, Drama                  Álex Pina   \n",
              "\n",
              "   languages           networks  origin_country spoken_languages  \\\n",
              "0         en                HBO              US          English   \n",
              "1         es  Netflix, Antena 3              ES          Español   \n",
              "\n",
              "                                production_companies  \\\n",
              "0  Revolution Sun Studios, Television 360, Genera...   \n",
              "1                                    Vancouver Media   \n",
              "\n",
              "                       production_countries episode_run_time  \n",
              "0  United Kingdom, United States of America                0  \n",
              "1                                     Spain               70  \n",
              "\n",
              "[2 rows x 29 columns]"
            ]
          },
          "execution_count": 3,
          "metadata": {},
          "output_type": "execute_result"
        }
      ],
      "source": [
        "tv.head(2)"
      ]
    },
    {
      "cell_type": "code",
      "execution_count": 4,
      "metadata": {
        "colab": {
          "base_uri": "https://localhost:8080/"
        },
        "id": "gAJh9PT3ZDZv",
        "outputId": "537101ee-fb7f-4dce-c583-67aa523c0ce0"
      },
      "outputs": [
        {
          "data": {
            "text/plain": [
              "Index(['id', 'name', 'number_of_seasons', 'number_of_episodes',\n",
              "       'original_language', 'vote_count', 'vote_average', 'overview', 'adult',\n",
              "       'backdrop_path', 'first_air_date', 'last_air_date', 'homepage',\n",
              "       'in_production', 'original_name', 'popularity', 'poster_path', 'type',\n",
              "       'status', 'tagline', 'genres', 'created_by', 'languages', 'networks',\n",
              "       'origin_country', 'spoken_languages', 'production_companies',\n",
              "       'production_countries', 'episode_run_time'],\n",
              "      dtype='object')"
            ]
          },
          "execution_count": 4,
          "metadata": {},
          "output_type": "execute_result"
        }
      ],
      "source": [
        "tv.columns"
      ]
    },
    {
      "cell_type": "code",
      "execution_count": 5,
      "metadata": {
        "colab": {
          "base_uri": "https://localhost:8080/"
        },
        "id": "0DEZWg1uQXx_",
        "outputId": "35b315a5-f63b-4bb6-e8bd-5d084d183833"
      },
      "outputs": [
        {
          "data": {
            "text/plain": [
              "Index(['id', 'title', 'vote_average', 'vote_count', 'status', 'release_date',\n",
              "       'revenue', 'runtime', 'adult', 'backdrop_path', 'budget', 'homepage',\n",
              "       'imdb_id', 'original_language', 'original_title', 'overview',\n",
              "       'popularity', 'poster_path', 'tagline', 'genres',\n",
              "       'production_companies', 'production_countries', 'spoken_languages',\n",
              "       'keywords'],\n",
              "      dtype='object')"
            ]
          },
          "execution_count": 5,
          "metadata": {},
          "output_type": "execute_result"
        }
      ],
      "source": [
        "movies.columns"
      ]
    },
    {
      "cell_type": "code",
      "execution_count": 67,
      "metadata": {
        "id": "0CMNrauUXJwR"
      },
      "outputs": [],
      "source": [
        "m = movies.copy()\n",
        "t = tv.copy()"
      ]
    },
    {
      "cell_type": "code",
      "execution_count": null,
      "metadata": {
        "id": "i19PA6tXZKPA"
      },
      "outputs": [],
      "source": [
        "m = m.drop(['id',  'status', 'original_title', 'revenue', 'runtime', 'adult', 'backdrop_path', 'budget', 'poster_path', 'tagline', \n",
        "       'production_countries',  'spoken_languages'], axis=1)"
      ]
    },
    {
      "cell_type": "code",
      "execution_count": null,
      "metadata": {
        "id": "dcZrU93DN9Ez"
      },
      "outputs": [],
      "source": [
        "t = t.drop(['id', 'adult',\n",
        "       'backdrop_path', 'in_production', 'poster_path', 'type',\n",
        "       'status', 'tagline', 'original_name', 'created_by', 'languages',\n",
        "       'origin_country', 'spoken_languages',\n",
        "       'production_countries', 'episode_run_time'], axis=1)\n"
      ]
    },
    {
      "cell_type": "code",
      "execution_count": 70,
      "metadata": {},
      "outputs": [
        {
          "data": {
            "text/plain": [
              "Index(['name', 'number_of_seasons', 'number_of_episodes', 'original_language',\n",
              "       'vote_count', 'vote_average', 'overview', 'first_air_date',\n",
              "       'last_air_date', 'homepage', 'original_name', 'popularity', 'genres',\n",
              "       'networks', 'production_companies'],\n",
              "      dtype='object')"
            ]
          },
          "execution_count": 70,
          "metadata": {},
          "output_type": "execute_result"
        }
      ],
      "source": [
        "t.columns"
      ]
    },
    {
      "cell_type": "code",
      "execution_count": 71,
      "metadata": {},
      "outputs": [
        {
          "data": {
            "text/plain": [
              "Index(['title', 'vote_average', 'vote_count', 'release_date', 'homepage',\n",
              "       'imdb_id', 'original_language', 'original_title', 'overview',\n",
              "       'popularity', 'genres', 'production_companies', 'keywords'],\n",
              "      dtype='object')"
            ]
          },
          "execution_count": 71,
          "metadata": {},
          "output_type": "execute_result"
        }
      ],
      "source": [
        "m.columns"
      ]
    },
    {
      "cell_type": "code",
      "execution_count": 72,
      "metadata": {},
      "outputs": [
        {
          "name": "stdout",
          "output_type": "stream",
          "text": [
            "movie ['en' 'ko' 'fr' 'ja' 'it' 'es' 'pl' 'pt' 'hi' 'tr' 'da' 'de' 'cn' 'id'\n",
            " 'zh' 'sv' 'el' 'ru' 'sr' 'fa' 'th' 'ar' 'no' 'nb' 'fi' 'te' 'la' 'nl'\n",
            " 'hu' 'he' 'is' 'ro' 'gl' 'uk' 'eu' 'et' 'bs' 'bn' 'xx' 'sh' 'km' 'cs'\n",
            " 'tn' 'ml' 'mk' 'ga' 'hy' 'ku' 'ka' 'ta' 'kn' 'tl' 'vi' 'ca' 'dz' 'sw'\n",
            " 'wo' 'kk' 'sk' 'lv' 'mi' 'bo' 'ps' 'mn' 'lt' 'ur' 'sl' 'sc' 'af' 'hr'\n",
            " 'iu' 'se' 'ms' 'bm' 'mr' 'bg' 'cy' 'lo' 'am' 'xh' 'qu' 'yi' 'yo' 'sq'\n",
            " 'pa' 'eo' 'gu' 'zu' 'st' 'ne' 'ak' 'mt' 'as' 'rw' 'ay' 'ln' 'si' 'mo'\n",
            " 'ff' 'so' 'ky' 'kl' 'ik' 'ab' 'az' 'jv' 'fo' 'sn' 'li' 'tg' 'my' 'ks'\n",
            " 'su' 'lb' 'ht' 'tk' 'sa' 'ha' 'rm' 'sm' 'fy' 'bi' 'or' 'gd' 'ny' 'be'\n",
            " 'om' 'cr' 'uz' 'mg' 'co' 'mh' 'nn' 'gn' 'tw' 'ia' 'nv' 'os' 'tt' 'ug'\n",
            " 'ig' 'sg' 'nd' 'dv' 'sd' 'oc' 'ba' 'ty' 'kw' 'ie' 'lg' 'cv' 'za' 'kj'\n",
            " 'kv' 'to' 'ti' 'av' 'ch' 'hz' 'aa' 'fj' 'oj' 'br' 'ce' 'ki' 'gv' 'ss'\n",
            " 'nr' 'ts' 'ii' 'rn' 'an' 'kg']\n",
            "tv ['en' 'es' 'ko' 'ja' 'de' 'fr' 'tr' 'pt' 'da' 'ca' 'sv' 'no' 'th' 'it'\n",
            " 'zh' 'ar' 'ru' 'is' 'tl' 'he' 'pl' 'nl' 'hi' 'fi' 'lb' 'cy' 'gl' 'uk'\n",
            " 'hu' 'cs' 'la' 'ro' 'bg' 'cn' 'el' 'vi' 'sr' 'ta' 'hr' 'zu' 'fa' 'xx'\n",
            " 'bn' 'id' 'ms' 'sk' 'ur' 'te' 'sh' 'af' 'kn' 'si' 'ml' 'bs' 'ga' 'et'\n",
            " 'ab' 'am' 'sq' 'mo' 'ka' 'az' 'nb' 'ku' 'lt' 'lv' 'eu' 'mr' 'sl' 'hz'\n",
            " 'mi' 'km' 'ne' 'kk' 'as' 'se' 'be' 'mn' 'pa' 'gu' 'mk' 'mt' 'jv' 'or'\n",
            " 'st' 'sw' 'ti' 'my' 'so' 'fy' 'za' 'hy' 'uz' 'rm' 'gd' 'av' 'ug' 'ho'\n",
            " 'eo' 'kv' 'dv' 'lo' 'ht' 'ps' 'ln' 'aa']\n"
          ]
        }
      ],
      "source": [
        "print(\"movie\", m[\"original_language\"].unique())\n",
        "print(\"tv\",t[\"original_language\"].unique())"
      ]
    },
    {
      "cell_type": "code",
      "execution_count": 73,
      "metadata": {},
      "outputs": [],
      "source": [
        "# Calculate the counts of each language\n",
        "mov = m['original_language'].value_counts()\n",
        "tv = t['original_language'].value_counts()\n",
        "\n",
        "# Filter rows where the count of the language is greater than or equal to 500\n",
        "m = m[m['original_language'].isin(mov[mov >= 10000].index)]\n",
        "t = t[t['original_language'].isin(tv[tv >= 5000].index)]"
      ]
    },
    {
      "cell_type": "code",
      "execution_count": 74,
      "metadata": {
        "colab": {
          "base_uri": "https://localhost:8080/",
          "height": 490
        },
        "id": "wa_oPTTSv2Qz",
        "outputId": "3d244e1c-0cb0-4bd9-a21a-ee37e4861dcc"
      },
      "outputs": [
        {
          "name": "stdout",
          "output_type": "stream",
          "text": [
            "movie original_language\n",
            "en    652819\n",
            "fr     70489\n",
            "es     61658\n",
            "de     56450\n",
            "ja     52553\n",
            "zh     40805\n",
            "pt     35975\n",
            "it     25104\n",
            "ru     24755\n",
            "ko     13904\n",
            "cs     11162\n",
            "Name: count, dtype: int64\n",
            "tv original_language\n",
            "en    76304\n",
            "zh    14422\n",
            "ja    14048\n",
            "ko     7820\n",
            "de     7712\n",
            "fr     7290\n",
            "es     5602\n",
            "Name: count, dtype: int64\n"
          ]
        }
      ],
      "source": [
        "\n",
        "print(\"movie\", m.value_counts(\"original_language\"))\n",
        "print(\"tv\", t.value_counts(\"original_language\"))"
      ]
    },
    {
      "cell_type": "code",
      "execution_count": 75,
      "metadata": {},
      "outputs": [
        {
          "name": "stdout",
          "output_type": "stream",
          "text": [
            "(1045674, 13)\n",
            "(133198, 15)\n"
          ]
        }
      ],
      "source": [
        "print(m.shape)\n",
        "print(t.shape)"
      ]
    },
    {
      "cell_type": "code",
      "execution_count": null,
      "metadata": {},
      "outputs": [],
      "source": [
        "\n",
        "m = m.dropna(subset=['release_date'])"
      ]
    },
    {
      "cell_type": "code",
      "execution_count": 78,
      "metadata": {},
      "outputs": [
        {
          "name": "stdout",
          "output_type": "stream",
          "text": [
            "(848028, 13)\n"
          ]
        }
      ],
      "source": [
        "print(m.shape)\n"
      ]
    },
    {
      "cell_type": "code",
      "execution_count": 79,
      "metadata": {},
      "outputs": [],
      "source": [
        "t = t.dropna(subset=['first_air_date']) "
      ]
    },
    {
      "cell_type": "code",
      "execution_count": 80,
      "metadata": {},
      "outputs": [
        {
          "name": "stdout",
          "output_type": "stream",
          "text": [
            "(103453, 15)\n"
          ]
        }
      ],
      "source": [
        "print(t.shape)"
      ]
    },
    {
      "cell_type": "code",
      "execution_count": 81,
      "metadata": {},
      "outputs": [
        {
          "data": {
            "text/html": [
              "<div>\n",
              "<style scoped>\n",
              "    .dataframe tbody tr th:only-of-type {\n",
              "        vertical-align: middle;\n",
              "    }\n",
              "\n",
              "    .dataframe tbody tr th {\n",
              "        vertical-align: top;\n",
              "    }\n",
              "\n",
              "    .dataframe thead th {\n",
              "        text-align: right;\n",
              "    }\n",
              "</style>\n",
              "<table border=\"1\" class=\"dataframe\">\n",
              "  <thead>\n",
              "    <tr style=\"text-align: right;\">\n",
              "      <th></th>\n",
              "      <th>name</th>\n",
              "      <th>number_of_seasons</th>\n",
              "      <th>number_of_episodes</th>\n",
              "      <th>original_language</th>\n",
              "      <th>vote_count</th>\n",
              "      <th>vote_average</th>\n",
              "      <th>overview</th>\n",
              "      <th>first_air_date</th>\n",
              "      <th>last_air_date</th>\n",
              "      <th>homepage</th>\n",
              "      <th>original_name</th>\n",
              "      <th>popularity</th>\n",
              "      <th>genres</th>\n",
              "      <th>networks</th>\n",
              "      <th>production_companies</th>\n",
              "    </tr>\n",
              "  </thead>\n",
              "  <tbody>\n",
              "    <tr>\n",
              "      <th>0</th>\n",
              "      <td>Game of Thrones</td>\n",
              "      <td>8</td>\n",
              "      <td>73</td>\n",
              "      <td>en</td>\n",
              "      <td>21857</td>\n",
              "      <td>8.442</td>\n",
              "      <td>Seven noble families fight for control of the ...</td>\n",
              "      <td>2011-04-17</td>\n",
              "      <td>2019-05-19</td>\n",
              "      <td>http://www.hbo.com/game-of-thrones</td>\n",
              "      <td>Game of Thrones</td>\n",
              "      <td>1083.917</td>\n",
              "      <td>Sci-Fi &amp; Fantasy, Drama, Action &amp; Adventure</td>\n",
              "      <td>HBO</td>\n",
              "      <td>Revolution Sun Studios, Television 360, Genera...</td>\n",
              "    </tr>\n",
              "    <tr>\n",
              "      <th>1</th>\n",
              "      <td>Money Heist</td>\n",
              "      <td>3</td>\n",
              "      <td>41</td>\n",
              "      <td>es</td>\n",
              "      <td>17836</td>\n",
              "      <td>8.257</td>\n",
              "      <td>To carry out the biggest heist in history, a m...</td>\n",
              "      <td>2017-05-02</td>\n",
              "      <td>2021-12-03</td>\n",
              "      <td>https://www.netflix.com/title/80192098</td>\n",
              "      <td>La Casa de Papel</td>\n",
              "      <td>96.354</td>\n",
              "      <td>Crime, Drama</td>\n",
              "      <td>Netflix, Antena 3</td>\n",
              "      <td>Vancouver Media</td>\n",
              "    </tr>\n",
              "  </tbody>\n",
              "</table>\n",
              "</div>"
            ],
            "text/plain": [
              "              name  number_of_seasons  number_of_episodes original_language  \\\n",
              "0  Game of Thrones                  8                  73                en   \n",
              "1      Money Heist                  3                  41                es   \n",
              "\n",
              "   vote_count  vote_average  \\\n",
              "0       21857         8.442   \n",
              "1       17836         8.257   \n",
              "\n",
              "                                            overview first_air_date  \\\n",
              "0  Seven noble families fight for control of the ...     2011-04-17   \n",
              "1  To carry out the biggest heist in history, a m...     2017-05-02   \n",
              "\n",
              "  last_air_date                                homepage     original_name  \\\n",
              "0    2019-05-19      http://www.hbo.com/game-of-thrones   Game of Thrones   \n",
              "1    2021-12-03  https://www.netflix.com/title/80192098  La Casa de Papel   \n",
              "\n",
              "   popularity                                       genres           networks  \\\n",
              "0    1083.917  Sci-Fi & Fantasy, Drama, Action & Adventure                HBO   \n",
              "1      96.354                                 Crime, Drama  Netflix, Antena 3   \n",
              "\n",
              "                                production_companies  \n",
              "0  Revolution Sun Studios, Television 360, Genera...  \n",
              "1                                    Vancouver Media  "
            ]
          },
          "execution_count": 81,
          "metadata": {},
          "output_type": "execute_result"
        }
      ],
      "source": [
        "t.head(2)"
      ]
    },
    {
      "cell_type": "code",
      "execution_count": 97,
      "metadata": {},
      "outputs": [],
      "source": [
        "t['first_air_date'] = pd.to_datetime(t['first_air_date'])\n",
        "t['last_air_date'] = pd.to_datetime(t['last_air_date'])\n",
        "\n",
        "t['air_years'] = t['first_air_date'].astype(str).str[:4] + '-' + t['last_air_date'].astype(str).str[:4]"
      ]
    },
    {
      "cell_type": "code",
      "execution_count": 98,
      "metadata": {},
      "outputs": [
        {
          "data": {
            "text/html": [
              "<div>\n",
              "<style scoped>\n",
              "    .dataframe tbody tr th:only-of-type {\n",
              "        vertical-align: middle;\n",
              "    }\n",
              "\n",
              "    .dataframe tbody tr th {\n",
              "        vertical-align: top;\n",
              "    }\n",
              "\n",
              "    .dataframe thead th {\n",
              "        text-align: right;\n",
              "    }\n",
              "</style>\n",
              "<table border=\"1\" class=\"dataframe\">\n",
              "  <thead>\n",
              "    <tr style=\"text-align: right;\">\n",
              "      <th></th>\n",
              "      <th>name</th>\n",
              "      <th>number_of_seasons</th>\n",
              "      <th>number_of_episodes</th>\n",
              "      <th>original_language</th>\n",
              "      <th>vote_count</th>\n",
              "      <th>vote_average</th>\n",
              "      <th>overview</th>\n",
              "      <th>first_air_date</th>\n",
              "      <th>last_air_date</th>\n",
              "      <th>homepage</th>\n",
              "      <th>original_name</th>\n",
              "      <th>popularity</th>\n",
              "      <th>genres</th>\n",
              "      <th>networks</th>\n",
              "      <th>production_companies</th>\n",
              "      <th>air_years</th>\n",
              "    </tr>\n",
              "  </thead>\n",
              "  <tbody>\n",
              "    <tr>\n",
              "      <th>0</th>\n",
              "      <td>Game of Thrones</td>\n",
              "      <td>8</td>\n",
              "      <td>73</td>\n",
              "      <td>en</td>\n",
              "      <td>21857</td>\n",
              "      <td>8.442</td>\n",
              "      <td>Seven noble families fight for control of the ...</td>\n",
              "      <td>2011-04-17</td>\n",
              "      <td>2019-05-19</td>\n",
              "      <td>http://www.hbo.com/game-of-thrones</td>\n",
              "      <td>Game of Thrones</td>\n",
              "      <td>1083.917</td>\n",
              "      <td>Sci-Fi &amp; Fantasy, Drama, Action &amp; Adventure</td>\n",
              "      <td>HBO</td>\n",
              "      <td>Revolution Sun Studios, Television 360, Genera...</td>\n",
              "      <td>2011-2019</td>\n",
              "    </tr>\n",
              "  </tbody>\n",
              "</table>\n",
              "</div>"
            ],
            "text/plain": [
              "              name  number_of_seasons  number_of_episodes original_language  \\\n",
              "0  Game of Thrones                  8                  73                en   \n",
              "\n",
              "   vote_count  vote_average  \\\n",
              "0       21857         8.442   \n",
              "\n",
              "                                            overview first_air_date  \\\n",
              "0  Seven noble families fight for control of the ...     2011-04-17   \n",
              "\n",
              "  last_air_date                            homepage    original_name  \\\n",
              "0    2019-05-19  http://www.hbo.com/game-of-thrones  Game of Thrones   \n",
              "\n",
              "   popularity                                       genres networks  \\\n",
              "0    1083.917  Sci-Fi & Fantasy, Drama, Action & Adventure      HBO   \n",
              "\n",
              "                                production_companies  air_years  \n",
              "0  Revolution Sun Studios, Television 360, Genera...  2011-2019  "
            ]
          },
          "execution_count": 98,
          "metadata": {},
          "output_type": "execute_result"
        }
      ],
      "source": [
        "t.head(1)"
      ]
    },
    {
      "cell_type": "code",
      "execution_count": 84,
      "metadata": {},
      "outputs": [
        {
          "name": "stdout",
          "output_type": "stream",
          "text": [
            "mov:  (11352, 13)\n",
            "tv:  (8408, 16)\n"
          ]
        }
      ],
      "source": [
        "\n",
        "t = t[t['vote_count'] > 15]  \n",
        "m = m[m['vote_count'] > 200] \n",
        "\n",
        "print(\"mov: \", m.shape)\n",
        "print(\"tv: \", t.shape)"
      ]
    },
    {
      "cell_type": "code",
      "execution_count": null,
      "metadata": {
        "colab": {
          "base_uri": "https://localhost:8080/",
          "height": 178
        },
        "id": "kv1gRu4qwa59",
        "outputId": "663cb459-fc48-413a-9dc0-d3f26b6ed9eb"
      },
      "outputs": [
        {
          "name": "stdout",
          "output_type": "stream",
          "text": [
            "movie original_language\n",
            "en    8483\n",
            "fr     758\n",
            "ja     315\n",
            "es     245\n",
            "de     116\n",
            "ko     107\n",
            "Name: count, dtype: int64\n",
            "tv original_language\n",
            "en    5415\n",
            "ja    1383\n",
            "ko     474\n",
            "fr     165\n",
            "de     103\n",
            "Name: count, dtype: int64\n"
          ]
        }
      ],
      "source": [
        "m = m[~m['original_language'].isin([\"cs\", \"it\", \"zh\", \"ru\", \"pt\"])]\n",
        "t = t[~t['original_language'].isin([\"es\",\"zh\"])]    \n",
        "print(\"movie\", m.value_counts(\"original_language\"))\n",
        "print(\"tv\", t.value_counts(\"original_language\"))"
      ]
    },
    {
      "cell_type": "code",
      "execution_count": 86,
      "metadata": {},
      "outputs": [
        {
          "name": "stdout",
          "output_type": "stream",
          "text": [
            "mov:  (10689, 13)\n",
            "tv:  (8281, 16)\n"
          ]
        }
      ],
      "source": [
        "print(\"mov: \", m.shape)\n",
        "print(\"tv: \", t.shape)"
      ]
    },
    {
      "cell_type": "code",
      "execution_count": 89,
      "metadata": {},
      "outputs": [],
      "source": [
        "m['release_year'] = m['release_date'].astype(str).str[:4]"
      ]
    },
    {
      "cell_type": "code",
      "execution_count": 90,
      "metadata": {},
      "outputs": [
        {
          "data": {
            "text/html": [
              "<div>\n",
              "<style scoped>\n",
              "    .dataframe tbody tr th:only-of-type {\n",
              "        vertical-align: middle;\n",
              "    }\n",
              "\n",
              "    .dataframe tbody tr th {\n",
              "        vertical-align: top;\n",
              "    }\n",
              "\n",
              "    .dataframe thead th {\n",
              "        text-align: right;\n",
              "    }\n",
              "</style>\n",
              "<table border=\"1\" class=\"dataframe\">\n",
              "  <thead>\n",
              "    <tr style=\"text-align: right;\">\n",
              "      <th></th>\n",
              "      <th>title</th>\n",
              "      <th>vote_average</th>\n",
              "      <th>vote_count</th>\n",
              "      <th>release_date</th>\n",
              "      <th>homepage</th>\n",
              "      <th>imdb_id</th>\n",
              "      <th>original_language</th>\n",
              "      <th>original_title</th>\n",
              "      <th>overview</th>\n",
              "      <th>popularity</th>\n",
              "      <th>genres</th>\n",
              "      <th>production_companies</th>\n",
              "      <th>keywords</th>\n",
              "      <th>release_year</th>\n",
              "    </tr>\n",
              "  </thead>\n",
              "  <tbody>\n",
              "    <tr>\n",
              "      <th>0</th>\n",
              "      <td>Inception</td>\n",
              "      <td>8.364</td>\n",
              "      <td>34495</td>\n",
              "      <td>2010-07-15</td>\n",
              "      <td>https://www.warnerbros.com/movies/inception</td>\n",
              "      <td>tt1375666</td>\n",
              "      <td>en</td>\n",
              "      <td>Inception</td>\n",
              "      <td>Cobb, a skilled thief who commits corporate es...</td>\n",
              "      <td>83.952</td>\n",
              "      <td>Action, Science Fiction, Adventure</td>\n",
              "      <td>Legendary Pictures, Syncopy, Warner Bros. Pict...</td>\n",
              "      <td>rescue, mission, dream, airplane, paris, franc...</td>\n",
              "      <td>2010</td>\n",
              "    </tr>\n",
              "  </tbody>\n",
              "</table>\n",
              "</div>"
            ],
            "text/plain": [
              "       title  vote_average  vote_count release_date  \\\n",
              "0  Inception         8.364       34495   2010-07-15   \n",
              "\n",
              "                                      homepage    imdb_id original_language  \\\n",
              "0  https://www.warnerbros.com/movies/inception  tt1375666                en   \n",
              "\n",
              "  original_title                                           overview  \\\n",
              "0      Inception  Cobb, a skilled thief who commits corporate es...   \n",
              "\n",
              "   popularity                              genres  \\\n",
              "0      83.952  Action, Science Fiction, Adventure   \n",
              "\n",
              "                                production_companies  \\\n",
              "0  Legendary Pictures, Syncopy, Warner Bros. Pict...   \n",
              "\n",
              "                                            keywords release_year  \n",
              "0  rescue, mission, dream, airplane, paris, franc...         2010  "
            ]
          },
          "execution_count": 90,
          "metadata": {},
          "output_type": "execute_result"
        }
      ],
      "source": [
        "m.head(1)"
      ]
    },
    {
      "cell_type": "code",
      "execution_count": 91,
      "metadata": {},
      "outputs": [
        {
          "data": {
            "text/plain": [
              "release_year\n",
              "2018    482\n",
              "2017    476\n",
              "2019    454\n",
              "2016    440\n",
              "2014    435\n",
              "       ... \n",
              "1916      1\n",
              "1921      1\n",
              "1918      1\n",
              "1917      1\n",
              "1911      1\n",
              "Name: count, Length: 113, dtype: int64"
            ]
          },
          "execution_count": 91,
          "metadata": {},
          "output_type": "execute_result"
        }
      ],
      "source": [
        "m['release_year'].value_counts()"
      ]
    },
    {
      "cell_type": "code",
      "execution_count": 92,
      "metadata": {},
      "outputs": [],
      "source": [
        "m['release_year'] = m['release_year'].astype(int)\n",
        "m = m[(m['release_year'] >= 1970)]"
      ]
    },
    {
      "cell_type": "code",
      "execution_count": 93,
      "metadata": {},
      "outputs": [
        {
          "data": {
            "text/plain": [
              "(10024, 14)"
            ]
          },
          "execution_count": 93,
          "metadata": {},
          "output_type": "execute_result"
        }
      ],
      "source": [
        "m.shape"
      ]
    },
    {
      "cell_type": "code",
      "execution_count": 101,
      "metadata": {
        "id": "lT9y0l4d0e_4"
      },
      "outputs": [],
      "source": [
        "m.to_csv(\"movies_dataset.csv\", index=False)"
      ]
    },
    {
      "cell_type": "code",
      "execution_count": 104,
      "metadata": {
        "id": "2WgvDIX2MtvV"
      },
      "outputs": [],
      "source": [
        "t.to_csv(\"tv_dataset.csv\", index=False)"
      ]
    },
    {
      "cell_type": "code",
      "execution_count": 105,
      "metadata": {},
      "outputs": [
        {
          "data": {
            "text/html": [
              "<div>\n",
              "<style scoped>\n",
              "    .dataframe tbody tr th:only-of-type {\n",
              "        vertical-align: middle;\n",
              "    }\n",
              "\n",
              "    .dataframe tbody tr th {\n",
              "        vertical-align: top;\n",
              "    }\n",
              "\n",
              "    .dataframe thead th {\n",
              "        text-align: right;\n",
              "    }\n",
              "</style>\n",
              "<table border=\"1\" class=\"dataframe\">\n",
              "  <thead>\n",
              "    <tr style=\"text-align: right;\">\n",
              "      <th></th>\n",
              "      <th>title</th>\n",
              "      <th>vote_average</th>\n",
              "      <th>vote_count</th>\n",
              "      <th>release_date</th>\n",
              "      <th>homepage</th>\n",
              "      <th>imdb_id</th>\n",
              "      <th>original_language</th>\n",
              "      <th>overview</th>\n",
              "      <th>popularity</th>\n",
              "      <th>genres</th>\n",
              "      <th>production_companies</th>\n",
              "      <th>keywords</th>\n",
              "      <th>release_year</th>\n",
              "      <th>cast</th>\n",
              "    </tr>\n",
              "  </thead>\n",
              "  <tbody>\n",
              "    <tr>\n",
              "      <th>0</th>\n",
              "      <td>Inception</td>\n",
              "      <td>8.364</td>\n",
              "      <td>34495</td>\n",
              "      <td>2010-07-15</td>\n",
              "      <td>https://www.warnerbros.com/movies/inception</td>\n",
              "      <td>tt1375666</td>\n",
              "      <td>en</td>\n",
              "      <td>Cobb, a skilled thief who commits corporate es...</td>\n",
              "      <td>83.952</td>\n",
              "      <td>Action, Science Fiction, Adventure</td>\n",
              "      <td>Legendary Pictures, Syncopy, Warner Bros. Pict...</td>\n",
              "      <td>rescue, mission, dream, airplane, paris, franc...</td>\n",
              "      <td>2010</td>\n",
              "      <td>Leonardo DiCaprio, Joseph Gordon-Levitt, Ellen...</td>\n",
              "    </tr>\n",
              "    <tr>\n",
              "      <th>1</th>\n",
              "      <td>Interstellar</td>\n",
              "      <td>8.417</td>\n",
              "      <td>32571</td>\n",
              "      <td>2014-11-05</td>\n",
              "      <td>http://www.interstellarmovie.net/</td>\n",
              "      <td>tt0816692</td>\n",
              "      <td>en</td>\n",
              "      <td>The adventures of a group of explorers who mak...</td>\n",
              "      <td>140.241</td>\n",
              "      <td>Adventure, Drama, Science Fiction</td>\n",
              "      <td>Legendary Pictures, Syncopy, Lynda Obst Produc...</td>\n",
              "      <td>rescue, future, spacecraft, race against time,...</td>\n",
              "      <td>2014</td>\n",
              "      <td>Matthew McConaughey, Jessica Chastain, Anne Ha...</td>\n",
              "    </tr>\n",
              "  </tbody>\n",
              "</table>\n",
              "</div>"
            ],
            "text/plain": [
              "          title  vote_average  vote_count release_date  \\\n",
              "0     Inception         8.364       34495   2010-07-15   \n",
              "1  Interstellar         8.417       32571   2014-11-05   \n",
              "\n",
              "                                      homepage    imdb_id original_language  \\\n",
              "0  https://www.warnerbros.com/movies/inception  tt1375666                en   \n",
              "1            http://www.interstellarmovie.net/  tt0816692                en   \n",
              "\n",
              "                                            overview  popularity  \\\n",
              "0  Cobb, a skilled thief who commits corporate es...      83.952   \n",
              "1  The adventures of a group of explorers who mak...     140.241   \n",
              "\n",
              "                               genres  \\\n",
              "0  Action, Science Fiction, Adventure   \n",
              "1   Adventure, Drama, Science Fiction   \n",
              "\n",
              "                                production_companies  \\\n",
              "0  Legendary Pictures, Syncopy, Warner Bros. Pict...   \n",
              "1  Legendary Pictures, Syncopy, Lynda Obst Produc...   \n",
              "\n",
              "                                            keywords  release_year  \\\n",
              "0  rescue, mission, dream, airplane, paris, franc...          2010   \n",
              "1  rescue, future, spacecraft, race against time,...          2014   \n",
              "\n",
              "                                                cast  \n",
              "0  Leonardo DiCaprio, Joseph Gordon-Levitt, Ellen...  \n",
              "1  Matthew McConaughey, Jessica Chastain, Anne Ha...  "
            ]
          },
          "execution_count": 105,
          "metadata": {},
          "output_type": "execute_result"
        }
      ],
      "source": [
        "d = pd.read_csv(\"movies_dataset.csv\")\n",
        "d.head(2)\n"
      ]
    },
    {
      "cell_type": "code",
      "execution_count": 108,
      "metadata": {},
      "outputs": [
        {
          "data": {
            "text/plain": [
              "(10024, 14)"
            ]
          },
          "execution_count": 108,
          "metadata": {},
          "output_type": "execute_result"
        }
      ],
      "source": [
        "d.shape"
      ]
    },
    {
      "cell_type": "code",
      "execution_count": null,
      "metadata": {},
      "outputs": [
        {
          "data": {
            "text/plain": [
              "6476"
            ]
          },
          "execution_count": 107,
          "metadata": {},
          "output_type": "execute_result"
        }
      ],
      "source": [
        "d[\"cast\"].isnull().sum()"
      ]
    },
    {
      "cell_type": "code",
      "execution_count": 109,
      "metadata": {},
      "outputs": [],
      "source": [
        "df = d[d[\"cast\"].isnull()]"
      ]
    },
    {
      "cell_type": "code",
      "execution_count": 110,
      "metadata": {},
      "outputs": [
        {
          "data": {
            "text/plain": [
              "(6476, 14)"
            ]
          },
          "execution_count": 110,
          "metadata": {},
          "output_type": "execute_result"
        }
      ],
      "source": [
        "df.shape"
      ]
    },
    {
      "cell_type": "code",
      "execution_count": 111,
      "metadata": {},
      "outputs": [],
      "source": [
        "df.to_csv(\"missing_cast.csv\", index=False)"
      ]
    },
    {
      "cell_type": "code",
      "execution_count": null,
      "metadata": {},
      "outputs": [],
      "source": [
        "import pandas as pd\n",
        "import json\n",
        "\n",
        "csv_path = \"tv_cast_dataset.csv\"\n",
        "df = pd.read_csv(csv_path)\n",
        "\n",
        "json_path = \"data.json\"\n",
        "with open(json_path, 'r', encoding='utf-8') as f:\n",
        "    data = [json.loads(line) for line in f] \n",
        "\n",
        "name_to_imdb = {\n",
        "    entry[\"name\"]: entry.get(\"external_ids\", {}).get(\"imdb_id\", \"\")\n",
        "    for entry in data if \"name\" in entry\n",
        "}\n",
        "\n",
        "df[\"imdb_id\"] = df[\"title\"].map(name_to_imdb).combine_first(df[\"imdb_id\"])\n",
        "df.to_csv(\"tv_shows_updated.csv\", index=False)\n"
      ]
    },
    {
      "cell_type": "code",
      "execution_count": 121,
      "metadata": {},
      "outputs": [
        {
          "data": {
            "text/plain": [
              "341"
            ]
          },
          "execution_count": 121,
          "metadata": {},
          "output_type": "execute_result"
        }
      ],
      "source": [
        "df[\"imdb_id\"].isnull().sum()"
      ]
    },
    {
      "cell_type": "code",
      "execution_count": 128,
      "metadata": {},
      "outputs": [],
      "source": [
        "# f = df[~df[\"imdb_id\"].isnull()]\n",
        "\n",
        "f.to_csv(\"tv_datasets.csv\", index=False)"
      ]
    },
    {
      "cell_type": "code",
      "execution_count": null,
      "metadata": {},
      "outputs": [],
      "source": [
        "import pandas as pd \n",
        "t = pd.read_csv(\"tv_dataset.csv\")\n",
        "m = pd.read_csv(\"movies_dataset.csv\")"
      ]
    },
    {
      "cell_type": "code",
      "execution_count": null,
      "metadata": {},
      "outputs": [
        {
          "name": "stdout",
          "output_type": "stream",
          "text": [
            "6609\n",
            "7348\n"
          ]
        }
      ],
      "source": [
        "print((t['vote_count'] < 100).sum())  \n",
        "print((m['vote_count'] < 1500).sum())"
      ]
    },
    {
      "cell_type": "code",
      "execution_count": 7,
      "metadata": {},
      "outputs": [
        {
          "name": "stdout",
          "output_type": "stream",
          "text": [
            "(7390, 17)\n",
            "(10024, 14)\n"
          ]
        }
      ],
      "source": [
        "print(t.shape)\n",
        "print(m.shape)"
      ]
    },
    {
      "cell_type": "code",
      "execution_count": 20,
      "metadata": {},
      "outputs": [
        {
          "data": {
            "text/plain": [
              "Index(['title', 'number_of_seasons', 'number_of_episodes', 'original_language',\n",
              "       'vote_count', 'vote_average', 'overview', 'first_air_date',\n",
              "       'last_air_date', 'homepage', 'popularity', 'genres', 'networks',\n",
              "       'production_companies', 'air_years', 'imdb_id', 'cast'],\n",
              "      dtype='object')"
            ]
          },
          "execution_count": 20,
          "metadata": {},
          "output_type": "execute_result"
        }
      ],
      "source": [
        "t.columns"
      ]
    },
    {
      "cell_type": "code",
      "execution_count": 50,
      "metadata": {},
      "outputs": [
        {
          "data": {
            "text/plain": [
              "Index(['title', 'vote_average', 'vote_count', 'release_date', 'homepage',\n",
              "       'imdb_id', 'original_language', 'overview', 'popularity', 'genres',\n",
              "       'production_companies', 'keywords', 'release_year', 'cast'],\n",
              "      dtype='object')"
            ]
          },
          "execution_count": 50,
          "metadata": {},
          "output_type": "execute_result"
        }
      ],
      "source": [
        "m.columns"
      ]
    },
    {
      "cell_type": "code",
      "execution_count": null,
      "metadata": {},
      "outputs": [],
      "source": [
        "m.drop(columns=['vote_count', 'vote_average', 'popularity'], inplace=True)\n",
        "t.drop(columns=['vote_count', 'vote_average', 'popularity'], inplace=True)"
      ]
    },
    {
      "cell_type": "code",
      "execution_count": 45,
      "metadata": {},
      "outputs": [
        {
          "name": "stdout",
          "output_type": "stream",
          "text": [
            "original_language\n",
            "English     5015\n",
            "Japanese    1277\n",
            "Korean       432\n",
            "French       149\n",
            "German        90\n",
            "Name: count, dtype: int64\n"
          ]
        }
      ],
      "source": [
        "\n",
        "language_mapping = {\n",
        "    \"en\": \"English\",\n",
        "    \"ja\": \"Japanese\",\n",
        "    \"ko\": \"Korean\",\n",
        "    \"de\": \"German\",\n",
        "    \"fr\": \"French\"\n",
        "}\n",
        "\n",
        "\n",
        "t['original_language'] = t['original_language'].replace(language_mapping)\n",
        "print(t['original_language'].value_counts())"
      ]
    },
    {
      "cell_type": "code",
      "execution_count": 52,
      "metadata": {},
      "outputs": [
        {
          "name": "stdout",
          "output_type": "stream",
          "text": [
            "original_language\n",
            "English     8483\n",
            "French       758\n",
            "Japanese     315\n",
            "es           245\n",
            "German       116\n",
            "Korean       107\n",
            "Name: count, dtype: int64\n"
          ]
        }
      ],
      "source": [
        "language_mapping = {\n",
        "    \"en\": \"English\",\n",
        "    \"ja\": \"Japanese\",\n",
        "    \"ko\": \"Korean\",\n",
        "    \"de\": \"German\",\n",
        "    \"fr\": \"French\"\n",
        "}\n",
        "\n",
        "\n",
        "m['original_language'] = m['original_language'].replace(language_mapping)\n",
        "print(m['original_language'].value_counts())"
      ]
    },
    {
      "cell_type": "code",
      "execution_count": null,
      "metadata": {},
      "outputs": [],
      "source": [
        "\n",
        "df2 = pd.read_csv(\"overt.csv\")\n",
        "t = t.drop_duplicates(subset=['imdb_id'])\n",
        "df2 = df2.drop_duplicates(subset=['imdb_id'])\n",
        "# Merge the two dataframes on the 'imdb_id' column\n",
        "merged_df = pd.merge(t, df2[['imdb_id', 'vote_average', 'vote_count', 'popularity']], on='imdb_id', how='left')\n",
        "merged_df = merged_df.dropna(subset=['vote_count'])\n"
      ]
    },
    {
      "cell_type": "code",
      "execution_count": 47,
      "metadata": {},
      "outputs": [],
      "source": [
        "merged_df= merged_df[merged_df['vote_count'] > 8000]\n",
        "\n",
        "merged_df.to_csv(\"tv_datasets.csv\", index=False)"
      ]
    },
    {
      "cell_type": "code",
      "execution_count": 48,
      "metadata": {},
      "outputs": [
        {
          "data": {
            "text/plain": [
              "(2049, 17)"
            ]
          },
          "execution_count": 48,
          "metadata": {},
          "output_type": "execute_result"
        }
      ],
      "source": [
        "merged_df.shape"
      ]
    },
    {
      "cell_type": "code",
      "execution_count": 66,
      "metadata": {},
      "outputs": [],
      "source": [
        "\n",
        "df1 = pd.read_csv(\"overm.csv\")\n",
        "m = m.drop_duplicates(subset=['imdb_id'])\n",
        "df1 = df1.drop_duplicates(subset=['imdb_id'])\n",
        "# Merge the two dataframes on the 'imdb_id' column\n",
        "merged = pd.merge(m, df1[['imdb_id', 'vote_average', 'vote_count', 'popularity']], on='imdb_id', how='left')\n",
        "merged = merged.dropna(subset=['vote_count'])\n"
      ]
    },
    {
      "cell_type": "code",
      "execution_count": null,
      "metadata": {},
      "outputs": [],
      "source": [
        "merged= merged[merged['vote_count'] > 50000]\n",
        "merged.shape\n",
        "merged.to_csv(\"movies_datasets.csv\", index=False)"
      ]
    },
    {
      "cell_type": "code",
      "execution_count": 49,
      "metadata": {},
      "outputs": [
        {
          "data": {
            "text/plain": [
              "original_language\n",
              "English     1814\n",
              "Japanese     134\n",
              "Korean        71\n",
              "German        20\n",
              "French        10\n",
              "Name: count, dtype: int64"
            ]
          },
          "execution_count": 49,
          "metadata": {},
          "output_type": "execute_result"
        }
      ],
      "source": [
        "merged_df[\"original_language\"].value_counts()"
      ]
    },
    {
      "cell_type": "code",
      "execution_count": 80,
      "metadata": {},
      "outputs": [],
      "source": [
        "df = pd.read_csv(\"ot.csv\")"
      ]
    },
    {
      "cell_type": "code",
      "execution_count": null,
      "metadata": {},
      "outputs": [],
      "source": [
        "import re\n",
        "df['year'] = \"\"\n",
        "\n",
        "def process_title(row):\n",
        "    # Extract the content inside brackets\n",
        "    match = re.search(r'\\((.*?)\\)', row['title'])\n",
        "    if match:\n",
        "        bracket_content = match.group(1)\n",
        "        \n",
        "        # Extract years from the bracket content (more flexible pattern)\n",
        "        year_match = re.search(r'(\\d{4})(?:–(\\d{4})?|\\s*–\\s*)?', bracket_content)\n",
        "        if year_match:\n",
        "            start_year = year_match.group(1)\n",
        "            end_year = year_match.group(2) if year_match.group(2) else ''\n",
        "            \n",
        "            if end_year:\n",
        "                row['year'] = f\"{start_year}–{end_year}\"\n",
        "            else:\n",
        "                row['year'] = start_year\n",
        "\n",
        "    row['title'] = re.sub(r'\\s*\\(.*?\\)', '', row['title']).strip()\n",
        "    return row\n",
        "\n",
        "df = df.apply(process_title, axis=1)"
      ]
    },
    {
      "cell_type": "code",
      "execution_count": 83,
      "metadata": {},
      "outputs": [],
      "source": [
        "df['seasons_count'] = df['seasons_count'].fillna(1)\n",
        "\n",
        "df = df[df['original_language'] != 'Hindi']"
      ]
    },
    {
      "cell_type": "code",
      "execution_count": 84,
      "metadata": {},
      "outputs": [],
      "source": [
        "df.to_csv(\"tv_dt.csv\", index=False, encoding=\"utf-8\")"
      ]
    },
    {
      "cell_type": "code",
      "execution_count": 85,
      "metadata": {},
      "outputs": [],
      "source": [
        "df = pd.read_csv(\"tv_datasets.csv\")\n",
        "df2 = pd.read_csv(\"tv_dt.csv\")\n",
        "\n",
        "app = pd.concat([df, df2], ignore_index=True)\n",
        "output_path = \"app.csv\"\n",
        "app.to_csv(output_path, index=False)\n"
      ]
    },
    {
      "cell_type": "code",
      "execution_count": 86,
      "metadata": {},
      "outputs": [],
      "source": [
        "m = pd.read_csv(\"movies_datasets.csv\")\n",
        "mm = pd.read_csv(\"om.csv\")\n"
      ]
    },
    {
      "cell_type": "code",
      "execution_count": null,
      "metadata": {},
      "outputs": [],
      "source": [
        "from datetime import datetime\n",
        "\n",
        "def clean_release_date(date_str):\n",
        "    if pd.isna(date_str) or date_str == \"\":\n",
        "        return \"\"\n",
        "\n",
        "    date_str = re.sub(r'\\s*\\(.*?\\)', '', date_str).strip()\n",
        "    \n",
        "    try:\n",
        "        date_obj = datetime.strptime(date_str, \"%B %d, %Y\")\n",
        "        return date_obj.strftime(\"%Y-%m-%d\")\n",
        "    except ValueError:\n",
        "        return date_str\n",
        "\n",
        "mm['release_date'] = mm['release_date'].apply(clean_release_date)"
      ]
    },
    {
      "cell_type": "code",
      "execution_count": 89,
      "metadata": {},
      "outputs": [],
      "source": [
        "mm = mm[mm['original_language'] != 'Hindi']"
      ]
    },
    {
      "cell_type": "code",
      "execution_count": 90,
      "metadata": {},
      "outputs": [],
      "source": [
        "mm.to_csv(\"om.csv\", index=False, encoding=\"utf-8\")"
      ]
    },
    {
      "cell_type": "code",
      "execution_count": null,
      "metadata": {},
      "outputs": [],
      "source": [
        "f = pd.read_csv(\"oms.csv\")\n",
        "k = pd.read_csv(\"movies_datasets.csv\")\n",
        "\n",
        "\n",
        "merged = pd.merge(k, f[['imdb_id', 'budget', 'collection', 'directors']], on='imdb_id', how='left')\n",
        "merged.to_csv(\"movies_datasets.csv\", index=False, encoding=\"utf-8\")"
      ]
    },
    {
      "cell_type": "code",
      "execution_count": 95,
      "metadata": {},
      "outputs": [],
      "source": [
        "\n",
        "df2 = pd.read_csv(\"om.csv\")\n",
        "app = pd.concat([merged, df2], ignore_index=True)\n",
        "output_path = \"movies_datase.csv\"\n",
        "app.to_csv(output_path, index=False)"
      ]
    },
    {
      "cell_type": "code",
      "execution_count": 12,
      "metadata": {},
      "outputs": [],
      "source": [
        "import pandas as pd\n",
        "m = pd.read_csv(\"movies.csv\")\n",
        "t = pd.read_csv(\"tv_series.csv\")\n",
        "mm = pd.read_csv(\"castwm.csv\")\n",
        "tt = pd.read_csv(\"casttvw.csv\")\n",
        "mk = pd.read_csv(\"key_wm.csv\")   \n",
        "tk = pd.read_csv(\"key_tvw.csv\")\n",
        "m = pd.merge(m, mm[['imdb_id', 'cast1']], on='imdb_id', how='left')\n",
        "t = pd.merge(t, tt[['imdb_id', 'cast1']], on='imdb_id', how='left')\n",
        "m = pd.merge(m, mk[['imdb_id', 'keywords']], on='imdb_id', how='left')\n",
        "t = pd.merge(t, tk[['imdb_id', 'keywords']], on='imdb_id', how='left')\n",
        "m.to_csv(\"movie.csv\", index=False)\n",
        "t.to_csv(\"tv_serie.csv\", index=False)"
      ]
    },
    {
      "cell_type": "code",
      "execution_count": 16,
      "metadata": {},
      "outputs": [],
      "source": [
        "mp = pd.read_csv(\"plots_wm.csv\")   \n",
        "tp = pd.read_csv(\"plots_tvw.csv\")\n",
        "a = pd.concat([mp, tp], ignore_index=True)\n",
        "a.to_csv(\"plots_w.csv\", index=False)"
      ]
    },
    {
      "cell_type": "code",
      "execution_count": null,
      "metadata": {},
      "outputs": [],
      "source": [
        "import pandas as pd\n",
        "ttc = pd.read_csv(\"twco.csv\")   \n",
        "tc = pd.read_csv(\"tv_series_wo.csv\")\n",
        "mmc = pd.read_csv(\"mwco.csv\")   \n",
        "mc = pd.read_csv(\"movies_wo.csv\")\n",
        "mc = pd.merge(mc, mmc[['imdb_id', 'country_of_origin']], on='imdb_id', how='left')\n",
        "tc = pd.merge(tc, ttc[['imdb_id', 'country_of_origin']], on='imdb_id', how='left')\n",
        "mc.to_csv(\"movies_wo.csv\", index=False)\n",
        "tc.to_csv(\"tv_series_wo.csv\", index=False)"
      ]
    },
    {
      "cell_type": "code",
      "execution_count": null,
      "metadata": {},
      "outputs": [
        {
          "name": "stdout",
          "output_type": "stream",
          "text": [
            "Duplicates in movies dataset:\n",
            "imdb_id\n",
            "tt22687790    64\n",
            "tt14509110    64\n",
            "tt10160976    64\n",
            "tt27719898     2\n",
            "tt26548265     2\n",
            "tt13927994     2\n",
            "tt15654328     2\n",
            "tt6571548      2\n",
            "tt12735488     2\n",
            "tt16539454     2\n",
            "Name: count, dtype: int64\n",
            "Movies shape after removing duplicates: (7297, 16)\n",
            "TV series shape after removing duplicates: (2708, 16)\n",
            "\n",
            "Duplicates in TV series dataset:\n",
            "Series([], Name: count, dtype: int64)\n"
          ]
        }
      ],
      "source": [
        "\n",
        "m = pd.read_csv(\"movies.csv\")\n",
        "t = pd.read_csv(\"tv_series.csv\")\n",
        "\n",
        "m = m.drop_duplicates(subset=['imdb_id'])\n",
        "mc_duplicates = m[m['imdb_id'].duplicated(keep=False)]\n",
        "print(mc_duplicates['imdb_id'].value_counts())\n",
        "\n",
        "t = t.drop_duplicates(subset=['imdb_id'])\n",
        "tc_duplicates = t[t['imdb_id'].duplicated(keep=False)]\n",
        "print(tc_duplicates['imdb_id'].value_counts())"
      ]
    },
    {
      "cell_type": "code",
      "execution_count": 12,
      "metadata": {},
      "outputs": [],
      "source": [
        "m.to_csv(\"movies.csv\", index=False) \n",
        "t.to_csv(\"tv_series.csv\", index=False)"
      ]
    },
    {
      "cell_type": "code",
      "execution_count": 12,
      "metadata": {},
      "outputs": [],
      "source": [
        "k.to_csv(\"plo.csv\", index=False, encoding=\"utf-8\")"
      ]
    },
    {
      "cell_type": "code",
      "execution_count": 14,
      "metadata": {},
      "outputs": [
        {
          "data": {
            "text/html": [
              "<div>\n",
              "<style scoped>\n",
              "    .dataframe tbody tr th:only-of-type {\n",
              "        vertical-align: middle;\n",
              "    }\n",
              "\n",
              "    .dataframe tbody tr th {\n",
              "        vertical-align: top;\n",
              "    }\n",
              "\n",
              "    .dataframe thead th {\n",
              "        text-align: right;\n",
              "    }\n",
              "</style>\n",
              "<table border=\"1\" class=\"dataframe\">\n",
              "  <thead>\n",
              "    <tr style=\"text-align: right;\">\n",
              "      <th></th>\n",
              "      <th>imdb_id</th>\n",
              "      <th>title</th>\n",
              "    </tr>\n",
              "  </thead>\n",
              "  <tbody>\n",
              "    <tr>\n",
              "      <th>0</th>\n",
              "      <td>tt3566834</td>\n",
              "      <td>A Minecraft Movie (2025) - Plot</td>\n",
              "    </tr>\n",
              "    <tr>\n",
              "      <th>1</th>\n",
              "      <td>tt6208148</td>\n",
              "      <td>Snow White (2025) - Plot</td>\n",
              "    </tr>\n",
              "    <tr>\n",
              "      <th>2</th>\n",
              "      <td>tt11563598</td>\n",
              "      <td>A Complete Unknown (2024) - Plot</td>\n",
              "    </tr>\n",
              "    <tr>\n",
              "      <th>3</th>\n",
              "      <td>tt5040012</td>\n",
              "      <td>Nosferatu (2024) - Plot</td>\n",
              "    </tr>\n",
              "    <tr>\n",
              "      <th>4</th>\n",
              "      <td>tt7766378</td>\n",
              "      <td>The Electric State (2025) - Plot</td>\n",
              "    </tr>\n",
              "  </tbody>\n",
              "</table>\n",
              "</div>"
            ],
            "text/plain": [
              "      imdb_id                             title\n",
              "0   tt3566834   A Minecraft Movie (2025) - Plot\n",
              "1   tt6208148          Snow White (2025) - Plot\n",
              "2  tt11563598  A Complete Unknown (2024) - Plot\n",
              "3   tt5040012           Nosferatu (2024) - Plot\n",
              "4   tt7766378  The Electric State (2025) - Plot"
            ]
          },
          "execution_count": 14,
          "metadata": {},
          "output_type": "execute_result"
        }
      ],
      "source": [
        "a.drop(columns=[ 'plot'], inplace=True)\n",
        "a.head()"
      ]
    },
    {
      "cell_type": "code",
      "execution_count": 7,
      "metadata": {},
      "outputs": [],
      "source": [
        "a.to_csv(\"plo.csv\", index=False)"
      ]
    },
    {
      "cell_type": "code",
      "execution_count": 13,
      "metadata": {},
      "outputs": [
        {
          "data": {
            "text/html": [
              "<div>\n",
              "<style scoped>\n",
              "    .dataframe tbody tr th:only-of-type {\n",
              "        vertical-align: middle;\n",
              "    }\n",
              "\n",
              "    .dataframe tbody tr th {\n",
              "        vertical-align: top;\n",
              "    }\n",
              "\n",
              "    .dataframe thead th {\n",
              "        text-align: right;\n",
              "    }\n",
              "</style>\n",
              "<table border=\"1\" class=\"dataframe\">\n",
              "  <thead>\n",
              "    <tr style=\"text-align: right;\">\n",
              "      <th></th>\n",
              "      <th>imdb_id</th>\n",
              "      <th>title</th>\n",
              "      <th>plot</th>\n",
              "    </tr>\n",
              "  </thead>\n",
              "  <tbody>\n",
              "    <tr>\n",
              "      <th>0</th>\n",
              "      <td>tt3566834</td>\n",
              "      <td>A Minecraft Movie (2025) - Plot</td>\n",
              "      <td>A man named Steve breaks into a mine to discov...</td>\n",
              "    </tr>\n",
              "    <tr>\n",
              "      <th>1</th>\n",
              "      <td>tt6208148</td>\n",
              "      <td>Snow White (2025) - Plot</td>\n",
              "      <td>A princess joins forces with seven dwarfs and ...</td>\n",
              "    </tr>\n",
              "    <tr>\n",
              "      <th>2</th>\n",
              "      <td>tt11563598</td>\n",
              "      <td>A Complete Unknown (2024) - Plot</td>\n",
              "      <td>In 1961, Bob Dylan moves to New York City, det...</td>\n",
              "    </tr>\n",
              "    <tr>\n",
              "      <th>3</th>\n",
              "      <td>tt5040012</td>\n",
              "      <td>Nosferatu (2024) - Plot</td>\n",
              "      <td>A young Ellen, longing for love, prays to any ...</td>\n",
              "    </tr>\n",
              "    <tr>\n",
              "      <th>4</th>\n",
              "      <td>tt7766378</td>\n",
              "      <td>The Electric State (2025) - Plot</td>\n",
              "      <td>An orphaned teen hits the road with a mysterio...</td>\n",
              "    </tr>\n",
              "  </tbody>\n",
              "</table>\n",
              "</div>"
            ],
            "text/plain": [
              "      imdb_id                             title  \\\n",
              "0   tt3566834   A Minecraft Movie (2025) - Plot   \n",
              "1   tt6208148          Snow White (2025) - Plot   \n",
              "2  tt11563598  A Complete Unknown (2024) - Plot   \n",
              "3   tt5040012           Nosferatu (2024) - Plot   \n",
              "4   tt7766378  The Electric State (2025) - Plot   \n",
              "\n",
              "                                                plot  \n",
              "0  A man named Steve breaks into a mine to discov...  \n",
              "1  A princess joins forces with seven dwarfs and ...  \n",
              "2  In 1961, Bob Dylan moves to New York City, det...  \n",
              "3  A young Ellen, longing for love, prays to any ...  \n",
              "4  An orphaned teen hits the road with a mysterio...  "
            ]
          },
          "execution_count": 13,
          "metadata": {},
          "output_type": "execute_result"
        }
      ],
      "source": [
        "import pandas as pd\n",
        "a = pd.read_csv(\"plots.csv\")   \n",
        "# aa = pd.read_csv(\"tv_series.csv\")\n",
        "a.head()"
      ]
    },
    {
      "cell_type": "code",
      "execution_count": null,
      "metadata": {},
      "outputs": [
        {
          "data": {
            "text/html": [
              "<div>\n",
              "<style scoped>\n",
              "    .dataframe tbody tr th:only-of-type {\n",
              "        vertical-align: middle;\n",
              "    }\n",
              "\n",
              "    .dataframe tbody tr th {\n",
              "        vertical-align: top;\n",
              "    }\n",
              "\n",
              "    .dataframe thead th {\n",
              "        text-align: right;\n",
              "    }\n",
              "</style>\n",
              "<table border=\"1\" class=\"dataframe\">\n",
              "  <thead>\n",
              "    <tr style=\"text-align: right;\">\n",
              "      <th></th>\n",
              "      <th>imdb_id</th>\n",
              "      <th>title</th>\n",
              "    </tr>\n",
              "  </thead>\n",
              "  <tbody>\n",
              "    <tr>\n",
              "      <th>0</th>\n",
              "      <td>tt3566834</td>\n",
              "      <td>A Minecraft Movie (2025)</td>\n",
              "    </tr>\n",
              "    <tr>\n",
              "      <th>1</th>\n",
              "      <td>tt6208148</td>\n",
              "      <td>Snow White (2025)</td>\n",
              "    </tr>\n",
              "    <tr>\n",
              "      <th>2</th>\n",
              "      <td>tt11563598</td>\n",
              "      <td>A Complete Unknown (2024)</td>\n",
              "    </tr>\n",
              "    <tr>\n",
              "      <th>3</th>\n",
              "      <td>tt5040012</td>\n",
              "      <td>Nosferatu (2024)</td>\n",
              "    </tr>\n",
              "    <tr>\n",
              "      <th>4</th>\n",
              "      <td>tt7766378</td>\n",
              "      <td>The Electric State (2025)</td>\n",
              "    </tr>\n",
              "  </tbody>\n",
              "</table>\n",
              "</div>"
            ],
            "text/plain": [
              "      imdb_id                      title\n",
              "0   tt3566834   A Minecraft Movie (2025)\n",
              "1   tt6208148          Snow White (2025)\n",
              "2  tt11563598  A Complete Unknown (2024)\n",
              "3   tt5040012           Nosferatu (2024)\n",
              "4   tt7766378  The Electric State (2025)"
            ]
          },
          "execution_count": 15,
          "metadata": {},
          "output_type": "execute_result"
        }
      ],
      "source": [
        "def clean_title(title):\n",
        "    pattern = r\"\\s*\\(TV (?:Mini )?Series\\s+(\\d{4}(?:[–\\-](?:\\d{4}| )?)?)\\)\"\n",
        "    clean = re.sub(pattern, r\" (\\1)\", title)\n",
        "    clean = re.sub(r\"\\s+- Plot$\", \"\", clean)\n",
        "    return clean\n",
        "\n",
        "a['title'] = a['title'].apply(clean_title)\n",
        "a.head()"
      ]
    },
    {
      "cell_type": "code",
      "execution_count": 16,
      "metadata": {},
      "outputs": [],
      "source": [
        "a.to_csv(\"plo.csv\", index=False)"
      ]
    },
    {
      "cell_type": "code",
      "execution_count": null,
      "metadata": {},
      "outputs": [],
      "source": [
        "import pandas as pd\n",
        "t = pd.read_csv(\"infoo.csv\")\n",
        "t['additional_info'] = t['additional_info'].replace('No relevant additional information found', '')\n",
        "t['wikipedia_intro'] = t['wikipedia_intro'].replace('No Wikipedia page found', '')\n",
        "t['wikipedia_intro'] = t['wikipedia_intro'].replace('No infobox found on Wikipedia page', '')\n",
        "t['additional_info'] = t['additional_info'].apply(lambda x: '' if len(str(x)) < 35 else x)\n",
        "t.to_csv(\"infoo.csv\", index=False)"
      ]
    },
    {
      "cell_type": "code",
      "execution_count": null,
      "metadata": {},
      "outputs": [],
      "source": [
        " \n",
        "tc = pd.read_csv(\"tv_series.csv\") \n",
        "mc = pd.read_csv(\"movies.csv\")\n",
        "mc = pd.merge(mc, t[['imdb_id', 'additional_info', 'wikipedia_intro']], on='imdb_id', how='left')\n",
        "tc = pd.merge(tc, t[['imdb_id', 'additional_info', 'wikipedia_intro']], on='imdb_id', how='left')\n"
      ]
    },
    {
      "cell_type": "code",
      "execution_count": 4,
      "metadata": {},
      "outputs": [],
      "source": [
        "tc.to_csv(\"tv_serie.csv\", index=False)\n",
        "mc.to_csv(\"movie.csv\", index=False)"
      ]
    },
    {
      "cell_type": "code",
      "execution_count": 9,
      "metadata": {},
      "outputs": [
        {
          "name": "stdout",
          "output_type": "stream",
          "text": [
            "['Action', 'Action & Adventure', 'Action Epic', 'Adult Animation', 'Adventure', 'Adventure Epic', 'Alien Invasion', 'Animal Adventure', 'Animation', 'Anime', 'Artificial Intelligence', 'Basketball', 'Biography', 'Body Horror', 'Buddy Comedy', 'Bumbling Detective', 'Classical Western', 'Comedy', 'Coming-of-Age', 'Computer Animation', 'Conspiracy Thriller', 'Contemporary Western', 'Cop Drama', 'Costume Drama', 'Crime', 'Crime Documentary', 'Cyber Thriller', 'Dark Comedy', 'Dark Fantasy', 'Dating Reality TV', 'Desert Adventure', 'Dinosaur Adventure', 'Disaster', 'Docudrama', 'Documentary', 'Docuseries', 'Drama', 'Drug Crime', 'Dystopian Sci-Fi', 'Epic', 'Erotic Thriller', 'Fairy Tale', 'Family', 'Fantasy', 'Fantasy Epic', 'Feel-Good Romance', 'Financial Drama', 'Football', 'Game Show', 'Gangster', 'Globetrotting Adventure', 'Hand-Drawn Animation', 'Hard-boiled Detective', 'Heist', 'High-Concept Comedy', 'Historical Epic', 'History', 'History Documentary', 'Holiday', 'Holiday Romance', 'Horror', 'Iyashikei', 'Kaiju', 'Kids', 'Korean Drama', 'Kung Fu', 'Legal Drama', 'Legal Thriller', 'Martial Arts', 'Mecha', 'Medical Drama', 'Mockumentary', 'Monster Horror', 'Motorsport', 'Music', 'Musical', 'Mystery', 'News', 'One-Person Army Action', 'Parody', 'Period Drama', 'Police Procedural', 'Political Drama', 'Political Thriller', 'Prison Drama', 'Psychological Drama', 'Psychological Horror', 'Psychological Thriller', 'Quest', 'Quirky Comedy', 'Quiz Show', 'Raunchy Comedy', 'Reality', 'Reality TV', 'Romance', 'Romantic Comedy', 'Romantic Epic', 'Samurai', 'Satire', 'Sci-Fi', 'Sci-Fi & Fantasy', 'Sci-Fi Epic', 'Screwball Comedy', 'Seinen', 'Serial Killer', 'Short', 'Showbiz Drama', 'Shōnen', 'Sitcom', 'Slapstick', 'Slice of Life', 'Soap', 'Soap Opera', 'Soccer', 'Space Sci-Fi', 'Sport', 'Sports Documentary', 'Spy', 'Stand-Up', 'Steamy Romance', 'Superhero', 'Supernatural Fantasy', 'Supernatural Horror', 'Survival', 'Survival Competition', 'Suspense Mystery', 'Sword & Sandal', 'Sword & Sorcery', 'Talk', 'Talk Show', 'Teen Adventure', 'Teen Comedy', 'Teen Drama', 'Teen Fantasy', 'Teen Horror', 'Teen Romance', 'Telenovela', 'Thriller', 'Time Travel', 'Tragedy', 'Travel Documentary', 'True Crime', 'Urban Adventure', 'Vampire Horror', 'War', 'War & Politics', 'War Epic', 'Western', 'Whodunnit', 'Workplace Drama', 'Zombie Horror']\n"
          ]
        }
      ],
      "source": [
        "import pandas as pd\n",
        "\n",
        "df = pd.read_csv('tv_series.csv')  \n",
        "df = df.dropna(subset=['genres'])\n",
        "genre_lists = df['genres'].str.split(', ')\n",
        "all_genres = [genre for sublist in genre_lists for genre in sublist]\n",
        "unique_genres = sorted(set(all_genres))\n",
        "\n",
        "print(unique_genres)\n"
      ]
    },
    {
      "cell_type": "code",
      "execution_count": null,
      "metadata": {},
      "outputs": [],
      "source": [
        "# movies\n",
        "['Action', 'Action Epic', 'Adventure', 'Adventure Epic', 'Alien Invasion', 'Animal Adventure', 'Animation', 'Anime',\n",
        "'Artificial Intelligence', 'Biography', 'Body Horror', 'Boxing', 'Buddy Comedy', 'Buddy Cop', 'Caper', 'Car Action',\n",
        "'Comedy', 'Coming-of-Age', 'Computer Animation', 'Conspiracy Thriller', 'Contemporary Western', 'Cop Drama', 'Costume Drama',\n",
        "'Crime', 'Crime Documentary', 'Cyber Thriller', 'Cyberpunk', 'Dark Comedy', 'Dark Fantasy', 'Dark Romance', 'Desert Adventure',\n",
        "'Dinosaur Adventure', 'Disaster', 'Docudrama', 'Documentary', 'Drama', 'Drug Crime', 'Dystopian Sci-Fi', 'Epic',\n",
        "'Erotic Thriller', 'Extreme Sport', 'Fairy Tale', 'Family', 'Fantasy', 'Fantasy Epic', 'Feel-Good Romance',\n",
        "'Financial Drama', 'Folk Horror', 'Gangster', 'Globetrotting Adventure', 'Gun Fu', 'Hard-boiled Detective',\n",
        "'Heist', 'High-Concept Comedy', 'Historical Epic', 'History', 'History Documentary', 'Holiday', 'Holiday Comedy',\n",
        "'Horror', 'Jukebox Musical', 'Jungle Adventure', 'Kaiju', 'Kung Fu', 'Legal Drama', 'Legal Thriller',\n",
        "'Martial Arts', 'Medical Drama', 'Mockumentary', 'Monster Horror', 'Mountain Adventure', 'Music',\n",
        "'Musical', 'Mystery', 'News', 'One-Person Army Action', 'Parody', 'Period Drama', 'Police Procedural',\n",
        "'Political Drama', 'Political Thriller', 'Pop Musical', 'Prison Drama', 'Psychological Drama',\n",
        "'Psychological Horror', 'Psychological Thriller', 'Quest', 'Quirky Comedy', 'Raunchy Comedy',\n",
        "'Road Trip', 'Romance', 'Romantic Comedy', 'Romantic Epic', 'Satire', 'Sci-Fi', 'Sci-Fi Epic', 'Science Fiction',\n",
        "'Screwball Comedy', 'Sea Adventure', 'Serial Killer', 'Showbiz Drama', 'Slapstick', 'Slasher Horror', 'Soccer', \n",
        "'Space Sci-Fi', 'Splatter Horror', 'Sport', 'Sports Documentary', 'Spy', 'Steampunk', 'Steamy Romance', 'Superhero', \n",
        "'Supernatural Fantasy', 'Supernatural Horror', 'Survival', 'Suspense Mystery', 'Swashbuckler', 'Sword & Sandal', \n",
        "'Sword & Sorcery', 'TV Movie', 'Teen Adventure', 'Teen Comedy', 'Teen Drama', 'Teen Horror', 'Teen Romance', 'Thriller', \n",
        "'Time Travel', 'Tragedy', 'Tragic Romance', 'Travel Documentary', 'True Crime', 'Urban Adventure', 'Vampire Horror', \n",
        "'War', 'War Epic', 'Water Sport', 'Werewolf Horror', 'Western', 'Whodunnit', 'Workplace Drama', 'Zombie Horror']\n",
        "# tv series\n",
        "['Action', 'Action & Adventure', 'Action Epic', 'Adult Animation', 'Adventure', 'Adventure Epic', \n",
        " 'Alien Invasion', 'Animal Adventure', 'Animation', 'Anime', 'Artificial Intelligence', 'Basketball', 'Biography', \n",
        " 'Body Horror', 'Buddy Comedy', 'Bumbling Detective', 'Classical Western', 'Comedy', 'Coming-of-Age', 'Computer Animation', \n",
        " 'Conspiracy Thriller', 'Contemporary Western', 'Cop Drama', 'Costume Drama', 'Crime', 'Crime Documentary', 'Cyber Thriller', \n",
        " 'Dark Comedy', 'Dark Fantasy', 'Dating Reality TV', 'Desert Adventure', 'Dinosaur Adventure', 'Disaster', 'Docudrama', \n",
        " 'Documentary', 'Docuseries', 'Drama', 'Drug Crime', 'Dystopian Sci-Fi', 'Epic', 'Erotic Thriller', 'Fairy Tale', 'Family', \n",
        " 'Fantasy', 'Fantasy Epic', 'Feel-Good Romance', 'Financial Drama', 'Football', 'Game Show', 'Gangster', 'Globetrotting Adventure', \n",
        " 'Hand-Drawn Animation', 'Hard-boiled Detective', 'Heist', 'High-Concept Comedy', 'Historical Epic', 'History', \n",
        " 'History Documentary', 'Holiday', 'Holiday Romance', 'Horror', 'Iyashikei', 'Kaiju', 'Kids', 'Korean Drama', \n",
        " 'Kung Fu', 'Legal Drama', 'Legal Thriller', 'Martial Arts', 'Mecha', 'Medical Drama', 'Mockumentary', 'Monster Horror', \n",
        " 'Motorsport', 'Music', 'Musical', 'Mystery', 'News', 'One-Person Army Action', 'Parody', 'Period Drama', 'Police Procedural', \n",
        " 'Political Drama', 'Political Thriller', 'Prison Drama', 'Psychological Drama', 'Psychological Horror', 'Psychological Thriller', \n",
        " 'Quest', 'Quirky Comedy', 'Quiz Show', 'Raunchy Comedy', 'Reality', 'Reality TV', 'Romance', 'Romantic Comedy', \n",
        " 'Romantic Epic', 'Samurai', 'Satire', 'Sci-Fi', 'Sci-Fi & Fantasy', 'Sci-Fi Epic', 'Screwball Comedy', 'Seinen', \n",
        " 'Serial Killer', 'Short', 'Showbiz Drama', 'Shōnen', 'Sitcom', 'Slapstick', 'Slice of Life', 'Soap', 'Soap Opera', \n",
        " 'Soccer', 'Space Sci-Fi', 'Sport', 'Sports Documentary', 'Spy', 'Stand-Up', 'Steamy Romance', 'Superhero', 'Supernatural Fantasy', \n",
        " 'Supernatural Horror', 'Survival', 'Survival Competition', 'Suspense Mystery', 'Sword & Sandal', 'Sword & Sorcery', 'Talk', \n",
        " 'Talk Show', 'Teen Adventure', 'Teen Comedy', 'Teen Drama', 'Teen Fantasy', 'Teen Horror', 'Teen Romance', 'Telenovela', \n",
        " 'Thriller', 'Time Travel', 'Tragedy', 'Travel Documentary', 'True Crime', 'Urban Adventure', 'Vampire Horror', \n",
        " 'War', 'War & Politics', 'War Epic', 'Western', 'Whodunnit', 'Workplace Drama', 'Zombie Horror']"
      ]
    },
    {
      "cell_type": "code",
      "execution_count": 8,
      "metadata": {},
      "outputs": [],
      "source": [
        "# import re\n",
        "# import pandas as pd\n",
        "# a = pd.read_csv(\"plots.csv\")\n",
        "def clean_title(title):\n",
        "    # Remove year patterns from TV series titles (e.g., \"(2019-2020)\" or \"(2018– )\")\n",
        "    title = re.sub(r'\\s*\\(\\d{4}(?:[-–]\\d{4}|\\s*–\\s*)\\)\\s*$', '', title)\n",
        "    # Remove any remaining parenthetical content at the end\n",
        "    title = re.sub(r'\\s*\\([^)]*\\)\\s*$', '', title)\n",
        "    return title\n",
        "    \n",
        "    return title\n",
        "\n",
        "a['title'] = a['title'].apply(clean_title)\n",
        "# a.head()\n",
        "a.to_csv(\"plots.csv\", index=False)"
      ]
    }
  ],
  "metadata": {
    "colab": {
      "provenance": []
    },
    "kernelspec": {
      "display_name": "base",
      "language": "python",
      "name": "python3"
    },
    "language_info": {
      "codemirror_mode": {
        "name": "ipython",
        "version": 3
      },
      "file_extension": ".py",
      "mimetype": "text/x-python",
      "name": "python",
      "nbconvert_exporter": "python",
      "pygments_lexer": "ipython3",
      "version": "3.11.5"
    }
  },
  "nbformat": 4,
  "nbformat_minor": 0
}
